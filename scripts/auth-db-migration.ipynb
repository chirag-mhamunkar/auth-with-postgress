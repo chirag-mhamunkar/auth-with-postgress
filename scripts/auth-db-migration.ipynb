{
 "cells": [
  {
   "cell_type": "code",
   "execution_count": 25,
   "metadata": {},
   "outputs": [],
   "source": [
    "from pymongo import MongoClient\n",
    "client = MongoClient()\n",
    "auth_db = client.get_database(\"authService\")\n",
    "pm_col = auth_db.get_collection(\"permission\")"
   ]
  },
  {
   "cell_type": "code",
   "execution_count": 49,
   "metadata": {},
   "outputs": [],
   "source": [
    "from bson.objectid import ObjectId"
   ]
  },
  {
   "cell_type": "code",
   "execution_count": 26,
   "metadata": {},
   "outputs": [],
   "source": [
    "import requests"
   ]
  },
  {
   "cell_type": "code",
   "execution_count": 44,
   "metadata": {},
   "outputs": [],
   "source": [
    "def save_permissions(permissions):\n",
    "    rq_pms = []\n",
    "    for pm in permissions:\n",
    "        rq_pms.append({\"key\": pm[\"key\"], \"name\": pm[\"name\"], \"active\": pm[\"active\"]})\n",
    "        \n",
    "    pm = {\"permissions\": rq_pms}\n",
    "    res = requests.post(url=\"http://localhost:8081/permission\", json=pm)\n",
    "    print \"is OK ?\", res.ok\n",
    "    print res.content\n",
    "    return res"
   ]
  },
  {
   "cell_type": "code",
   "execution_count": 56,
   "metadata": {},
   "outputs": [
    {
     "name": "stdout",
     "output_type": "stream",
     "text": [
      "is OK ? True\n",
      "[{\"id\":115,\"key\":\"TAB_CUSTOMER_READ\",\"name\":\"TAB_CUSTOMER_READ\",\"active\":true,\"createdAt\":\"2020-08-24T22:21:37.215823\",\"updatedAt\":\"2020-08-24T22:21:37.215922\"},{\"id\":116,\"key\":\"TAB_LEAD_WRITE\",\"name\":\"TAB_LEAD_WRITE\",\"active\":true,\"createdAt\":\"2020-08-24T22:21:37.215989\",\"updatedAt\":\"2020-08-24T22:21:37.21599\"},{\"id\":117,\"key\":\"TAB_EARNINGS_READ\",\"name\":\"TAB_EARNINGS_READ\",\"active\":true,\"createdAt\":\"2020-08-24T22:21:37.215992\",\"updatedAt\":\"2020-08-24T22:21:37.215992\"},{\"id\":118,\"key\":\"RECENT_LEADS_READ\",\"name\":\"RECENT_LEADS_READ\",\"active\":true,\"createdAt\":\"2020-08-24T22:21:37.215993\",\"updatedAt\":\"2020-08-24T22:21:37.215994\"},{\"id\":119,\"key\":\"EARNINGS_READ\",\"name\":\"EARNINGS_READ\",\"active\":true,\"createdAt\":\"2020-08-24T22:21:37.215995\",\"updatedAt\":\"2020-08-24T22:21:37.215995\"},{\"id\":120,\"key\":\"EARNINGS_CHILD_READ\",\"name\":\"EARNINGS_CHILD_READ\",\"active\":true,\"createdAt\":\"2020-08-24T22:21:37.215996\",\"updatedAt\":\"2020-08-24T22:21:37.215997\"},{\"id\":121,\"key\":\"TAB_EARNINGS_WRITE\",\"name\":\"TAB_EARNINGS_WRITE\",\"active\":true,\"createdAt\":\"2020-08-24T22:21:37.215998\",\"updatedAt\":\"2020-08-24T22:21:37.215998\"},{\"id\":122,\"key\":\"EARNINGS_ASSOCIATE_READ\",\"name\":\"EARNINGS_ASSOCIATE_READ\",\"active\":true,\"createdAt\":\"2020-08-24T22:21:37.215999\",\"updatedAt\":\"2020-08-24T22:21:37.216\"},{\"id\":123,\"key\":\"TAB_CUSTOMER_WRITE\",\"name\":\"TAB_CUSTOMER_WRITE\",\"active\":true,\"createdAt\":\"2020-08-24T22:21:37.216001\",\"updatedAt\":\"2020-08-24T22:21:37.216001\"},{\"id\":124,\"key\":\"CUSTOMER_CHILD_READ\",\"name\":\"CUSTOMER_CHILD_READ\",\"active\":true,\"createdAt\":\"2020-08-24T22:21:37.216002\",\"updatedAt\":\"2020-08-24T22:21:37.216003\"},{\"id\":125,\"key\":\"CUSTOMER_ASSOCIATE_READ\",\"name\":\"CUSTOMER_ASSOCIATE_READ\",\"active\":true,\"createdAt\":\"2020-08-24T22:21:37.216645\",\"updatedAt\":\"2020-08-24T22:21:37.216652\"},{\"id\":126,\"key\":\"CUSTOMER_DETAILS_ASSOCIATE_READ\",\"name\":\"CUSTOMER_DETAILS_ASSOCIATE_READ\",\"active\":true,\"createdAt\":\"2020-08-24T22:21:37.216664\",\"updatedAt\":\"2020-08-24T22:21:37.216664\"},{\"id\":127,\"key\":\"CUSTOMER_DETAILS_READ\",\"name\":\"CUSTOMER_DETAILS_READ\",\"active\":true,\"createdAt\":\"2020-08-24T22:21:37.216665\",\"updatedAt\":\"2020-08-24T22:21:37.216666\"},{\"id\":128,\"key\":\"LEAD_READ\",\"name\":\"LEAD_READ\",\"active\":true,\"createdAt\":\"2020-08-24T22:21:37.216667\",\"updatedAt\":\"2020-08-24T22:21:37.216668\"},{\"id\":129,\"key\":\"CUSTOMER_DETAILS_CHILD_READ\",\"name\":\"CUSTOMER_DETAILS_CHILD_READ\",\"active\":true,\"createdAt\":\"2020-08-24T22:21:37.216669\",\"updatedAt\":\"2020-08-24T22:21:37.216669\"},{\"id\":130,\"key\":\"CERTIFICATION_READ\",\"name\":\"CERTIFICATION_READ\",\"active\":true,\"createdAt\":\"2020-08-24T22:21:37.21667\",\"updatedAt\":\"2020-08-24T22:21:37.216671\"},{\"id\":131,\"key\":\"CUSTOMER_READ\",\"name\":\"CUSTOMER_READ\",\"active\":true,\"createdAt\":\"2020-08-24T22:21:37.216672\",\"updatedAt\":\"2020-08-24T22:21:37.216672\"},{\"id\":132,\"key\":\"CONTENTS_READ\",\"name\":\"CONTENTS_READ\",\"active\":true,\"createdAt\":\"2020-08-24T22:21:37.216673\",\"updatedAt\":\"2020-08-24T22:21:37.216674\"},{\"id\":133,\"key\":\"CREATE_QUOTE\",\"name\":\"CREATE_QUOTE\",\"active\":true,\"createdAt\":\"2020-08-24T22:21:37.216675\",\"updatedAt\":\"2020-08-24T22:21:37.216675\"},{\"id\":134,\"key\":\"HELP_CENTER\",\"name\":\"HELP_CENTER\",\"active\":true,\"createdAt\":\"2020-08-24T22:21:37.216676\",\"updatedAt\":\"2020-08-24T22:21:37.216677\"},{\"id\":135,\"key\":\"TW_VERTICAL_READ\",\"name\":\"TW_VERTICAL_READ\",\"active\":true,\"createdAt\":\"2020-08-24T22:21:37.216689\",\"updatedAt\":\"2020-08-24T22:21:37.216689\"},{\"id\":136,\"key\":\"TENANT_CUSTOMER_READ\",\"name\":\"TENANT_CUSTOMER_READ\",\"active\":true,\"createdAt\":\"2020-08-24T22:21:37.216691\",\"updatedAt\":\"2020-08-24T22:21:37.216691\"},{\"id\":137,\"key\":\"FW_VERTICAL_READ\",\"name\":\"FW_VERTICAL_READ\",\"active\":true,\"createdAt\":\"2020-08-24T22:21:37.216692\",\"updatedAt\":\"2020-08-24T22:21:37.216693\"},{\"id\":138,\"key\":\"PROFILE_READ\",\"name\":\"PROFILE_READ\",\"active\":true,\"createdAt\":\"2020-08-24T22:21:37.216694\",\"updatedAt\":\"2020-08-24T22:21:37.216694\"},{\"id\":139,\"key\":\"COMMERCIAL_VERTICAL_READ\",\"name\":\"COMMERCIAL_VERTICAL_READ\",\"active\":true,\"createdAt\":\"2020-08-24T22:21:37.216695\",\"updatedAt\":\"2020-08-24T22:21:37.216696\"},{\"id\":140,\"key\":\"TERM_VERTICAL_READ\",\"name\":\"TERM_VERTICAL_READ\",\"active\":true,\"createdAt\":\"2020-08-24T22:21:37.216697\",\"updatedAt\":\"2020-08-24T22:21:37.216697\"},{\"id\":141,\"key\":\"MF_VERTICAL_READ\",\"name\":\"MF_VERTICAL_READ\",\"active\":true,\"createdAt\":\"2020-08-24T22:21:37.216698\",\"updatedAt\":\"2020-08-24T22:21:37.216699\"},{\"id\":142,\"key\":\"HEALTH_VERTICAL_READ\",\"name\":\"HEALTH_VERTICAL_READ\",\"active\":true,\"createdAt\":\"2020-08-24T22:21:37.2167\",\"updatedAt\":\"2020-08-24T22:21:37.2167\"},{\"id\":143,\"key\":\"LIFE_VERTICAL_READ\",\"name\":\"LIFE_VERTICAL_READ\",\"active\":true,\"createdAt\":\"2020-08-24T22:21:37.216701\",\"updatedAt\":\"2020-08-24T22:21:37.216702\"},{\"id\":144,\"key\":\"HEALTH_ONE_PLAN\",\"name\":\"HEALTH_ONE_PLAN\",\"active\":true,\"createdAt\":\"2020-08-24T22:21:37.216703\",\"updatedAt\":\"2020-08-24T22:21:37.216703\"},{\"id\":145,\"key\":\"CV_QIS\",\"name\":\"CV_QIS\",\"active\":true,\"createdAt\":\"2020-08-24T22:21:37.216713\",\"updatedAt\":\"2020-08-24T22:21:37.216714\"},{\"id\":146,\"key\":\"REFER_FRIENDS_CERTIFICATE\",\"name\":\"REFER_FRIENDS_CERTIFICATE\",\"active\":true,\"createdAt\":\"2020-08-24T22:21:37.216715\",\"updatedAt\":\"2020-08-24T22:21:37.216715\"},{\"id\":147,\"key\":\"FW_QIS\",\"name\":\"FW_QIS\",\"active\":true,\"createdAt\":\"2020-08-24T22:21:37.216716\",\"updatedAt\":\"2020-08-24T22:21:37.216717\"},{\"id\":148,\"key\":\"PARTNER_PUBLIC_PROFILE\",\"name\":\"PARTNER_PUBLIC_PROFILE\",\"active\":true,\"createdAt\":\"2020-08-24T22:21:37.216718\",\"updatedAt\":\"2020-08-24T22:21:37.216718\"},{\"id\":149,\"key\":\"CERTIFICATION_CONTENT_VIEW\",\"name\":\"CERTIFICATION_CONTENT_VIEW\",\"active\":true,\"createdAt\":\"2020-08-24T22:21:37.216719\",\"updatedAt\":\"2020-08-24T22:21:37.21672\"},{\"id\":150,\"key\":\"DP_VERTICAL_READ\",\"name\":\"DP_VERTICAL_READ\",\"active\":true,\"createdAt\":\"2020-08-24T22:21:37.216721\",\"updatedAt\":\"2020-08-24T22:21:37.216722\"}]\n"
     ]
    }
   ],
   "source": [
    "response = save_permissions(list(pm_col.find()))"
   ]
  },
  {
   "cell_type": "code",
   "execution_count": 48,
   "metadata": {},
   "outputs": [],
   "source": [
    "role_col = auth_db.get_collection(\"role\")\n",
    "permission_col = auth_db.get_collection(\"permission\")\n",
    "role_permission_mapping_col = auth_db.get_collection(\"permission_roles__role_permissions\")"
   ]
  },
  {
   "cell_type": "code",
   "execution_count": 53,
   "metadata": {},
   "outputs": [],
   "source": [
    "def save_role(role):\n",
    "    res = requests.post(url=\"http://localhost:8081/role\", json=role)\n",
    "    print \"is ok?\", res.ok\n",
    "    return res.content"
   ]
  },
  {
   "cell_type": "code",
   "execution_count": 57,
   "metadata": {},
   "outputs": [
    {
     "name": "stdout",
     "output_type": "stream",
     "text": [
      "is ok? True\n",
      "is ok? True\n",
      "is ok? True\n",
      "is ok? True\n",
      "is ok? True\n",
      "is ok? True\n",
      "is ok? True\n",
      "is ok? True\n",
      "is ok? True\n",
      "is ok? True\n",
      "is ok? True\n",
      "is ok? True\n",
      "is ok? True\n",
      "is ok? True\n",
      "is ok? True\n",
      "is ok? True\n",
      "is ok? True\n",
      "is ok? True\n",
      "is ok? True\n",
      "is ok? True\n",
      "is ok? True\n",
      "is ok? True\n",
      "is ok? True\n",
      "is ok? True\n",
      "is ok? True\n",
      "is ok? True\n",
      "is ok? True\n",
      "is ok? True\n",
      "is ok? True\n"
     ]
    }
   ],
   "source": [
    "for role in role_col.find():\n",
    "    permissionIds = list(role_permission_mapping_col.find({\"role_permissions\": role[\"_id\"]}))\n",
    "    permissions = list(permission_col.find({\"_id\": {\"$in\": map(lambda p: p[\"permission_roles\"], permissionIds)}}))\n",
    "    \n",
    "    role_req = {\"key\": role[\"key\"],\"name\": role[\"name\"],\"tenant\": role[\"tenant\"], \"active\": role[\"active\"],\"permissionKeys\":  map(lambda p: p[\"key\"], permissions)}\n",
    "    save_role(role_req)"
   ]
  },
  {
   "cell_type": "code",
   "execution_count": null,
   "metadata": {},
   "outputs": [],
   "source": []
  }
 ],
 "metadata": {
  "kernelspec": {
   "display_name": "Python 2",
   "language": "python",
   "name": "python2"
  },
  "language_info": {
   "codemirror_mode": {
    "name": "ipython",
    "version": 2
   },
   "file_extension": ".py",
   "mimetype": "text/x-python",
   "name": "python",
   "nbconvert_exporter": "python",
   "pygments_lexer": "ipython2",
   "version": "2.7.17"
  }
 },
 "nbformat": 4,
 "nbformat_minor": 2
}
